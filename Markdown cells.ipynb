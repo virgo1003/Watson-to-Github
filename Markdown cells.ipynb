{
    "cells": [
        {
            "cell_type": "markdown",
            "metadata": {
                "collapsed": true
            },
            "source": "# My Jupyter Notebook on IBM Watson Studio"
        },
        {
            "cell_type": "markdown",
            "metadata": {},
            "source": "**Sergio Mendoza** \nData Science Analyst"
        },
        {
            "cell_type": "markdown",
            "metadata": {},
            "source": "*I\u00b4m interested in data science because learning to code and looking for continuos improvment it\u00b4s something that I really enjoy.*"
        },
        {
            "cell_type": "markdown",
            "metadata": {},
            "source": "### Addition operation"
        },
        {
            "cell_type": "code",
            "execution_count": 1,
            "metadata": {},
            "outputs": [
                {
                    "data": {
                        "text/plain": "4"
                    },
                    "execution_count": 1,
                    "metadata": {},
                    "output_type": "execute_result"
                }
            ],
            "source": "2+2"
        },
        {
            "cell_type": "markdown",
            "metadata": {},
            "source": "**Objectives:**\n* List Data Science languages\n* List Data Science libraries\n* List Data Science tools"
        },
        {
            "cell_type": "markdown",
            "metadata": {},
            "source": "Some of the popular languages that Data Scientists use are:\n1. Python\n2. R\n3. Java\n4. SQL\n5. Julia\n"
        },
        {
            "cell_type": "markdown",
            "metadata": {},
            "source": "| Data Science Tools | \n| -------------|\n| JupyterLab |\n| Apache Zeppelin |\n| RStudio |\n"
        }
    ],
    "metadata": {
        "kernelspec": {
            "display_name": "Python 3.10",
            "language": "python",
            "name": "python3"
        },
        "language_info": {
            "codemirror_mode": {
                "name": "ipython",
                "version": 3
            },
            "file_extension": ".py",
            "mimetype": "text/x-python",
            "name": "python",
            "nbconvert_exporter": "python",
            "pygments_lexer": "ipython3",
            "version": "3.10.9"
        }
    },
    "nbformat": 4,
    "nbformat_minor": 1
}